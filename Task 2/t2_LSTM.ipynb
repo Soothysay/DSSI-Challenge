{
 "cells": [
  {
   "attachments": {},
   "cell_type": "markdown",
   "metadata": {},
   "source": [
    "# Task 2 LSTM"
   ]
  },
  {
   "attachments": {},
   "cell_type": "markdown",
   "metadata": {},
   "source": [
    "References:\n",
    "- [ECG Heartbeat Classification: A Deep Transferable Representation](https://arxiv.org/pdf/1805.00794.pdf)"
   ]
  },
  {
   "attachments": {},
   "cell_type": "markdown",
   "metadata": {},
   "source": [
    "## Load dependencies"
   ]
  },
  {
   "cell_type": "code",
   "execution_count": 1,
   "metadata": {},
   "outputs": [
    {
     "name": "stderr",
     "output_type": "stream",
     "text": [
      "2023-06-08 12:51:21.521613: I tensorflow/core/platform/cpu_feature_guard.cc:193] This TensorFlow binary is optimized with oneAPI Deep Neural Network Library (oneDNN) to use the following CPU instructions in performance-critical operations:  SSE4.1 SSE4.2 AVX AVX2 FMA\n",
      "To enable them in other operations, rebuild TensorFlow with the appropriate compiler flags.\n"
     ]
    }
   ],
   "source": [
    "import pandas as pd\n",
    "import numpy as np\n",
    "import matplotlib.pyplot as plt\n",
    "import tensorflow as tf\n",
    "from sklearn.model_selection import train_test_split\n",
    "from sklearn.metrics import classification_report\n",
    "from tensorflow.keras.models import Sequential\n",
    "from tensorflow.keras.layers import LSTM, Dense\n",
    "from sklearn.metrics import classification_report, accuracy_score, precision_score, recall_score\n",
    "from keras.utils import to_categorical"
   ]
  },
  {
   "attachments": {},
   "cell_type": "markdown",
   "metadata": {},
   "source": [
    "## MIT-BIH  Arrhythmia Dataset\n",
    "\n",
    "- Number of Samples: 109446\n",
    "- Number of Categories: 5\n",
    "- Sampling Frequency: 125Hz\n",
    "- Data Source: Physionet's MIT-BIH Arrhythmia Dataset\n",
    "- Classes: ['N': 0, 'S': 1, 'V': 2, 'F': 3, 'Q': 4]\n",
    "- Remark: All the samples are cropped, downsampled and padded with zeroes if necessary to the fixed dimension of 188.\n",
    "- The final element of each row denotes the class to which that example belongs.\n"
   ]
  },
  {
   "cell_type": "code",
   "execution_count": 3,
   "metadata": {},
   "outputs": [
    {
     "name": "stdout",
     "output_type": "stream",
     "text": [
      "The shape of the mitbih_train is :  (87554, 188)\n",
      "The shape of the mitbih_test is :  (21892, 188)\n"
     ]
    }
   ],
   "source": [
    "df_mitbih_train = pd.read_csv(\"../ecg_dataset/mitbih_train.csv\", header = None)\n",
    "df_mitbih_test = pd.read_csv(\"../ecg_dataset/mitbih_test.csv\", header = None)\n",
    "\n",
    "# print shapes of the dataframes\n",
    "print(\"The shape of the mitbih_train is : \", df_mitbih_train.shape)\n",
    "print(\"The shape of the mitbih_test is : \", df_mitbih_test.shape)"
   ]
  },
  {
   "attachments": {},
   "cell_type": "markdown",
   "metadata": {},
   "source": [
    "# Build model for classification"
   ]
  },
  {
   "attachments": {},
   "cell_type": "markdown",
   "metadata": {},
   "source": [
    "Configure training and testing sets. "
   ]
  },
  {
   "cell_type": "code",
   "execution_count": 4,
   "metadata": {},
   "outputs": [],
   "source": [
    "X_train, y_train = df_mitbih_train.iloc[: , :-1], df_mitbih_train.iloc[: , -1]\n",
    "\n",
    "X_test, y_test = df_mitbih_test.iloc[:,:-1], df_mitbih_test.iloc[: , -1]"
   ]
  },
  {
   "cell_type": "code",
   "execution_count": 5,
   "metadata": {},
   "outputs": [],
   "source": [
    "y_train = to_categorical(y_train)\n",
    "y_test = to_categorical(y_test)"
   ]
  },
  {
   "cell_type": "code",
   "execution_count": 6,
   "metadata": {},
   "outputs": [
    {
     "name": "stderr",
     "output_type": "stream",
     "text": [
      "2023-06-08 12:52:20.471297: I tensorflow/core/platform/cpu_feature_guard.cc:193] This TensorFlow binary is optimized with oneAPI Deep Neural Network Library (oneDNN) to use the following CPU instructions in performance-critical operations:  SSE4.1 SSE4.2 AVX AVX2 FMA\n",
      "To enable them in other operations, rebuild TensorFlow with the appropriate compiler flags.\n"
     ]
    },
    {
     "name": "stdout",
     "output_type": "stream",
     "text": [
      "Epoch 1/10\n",
      "2737/2737 [==============================] - 268s 97ms/step - loss: 0.6614 - accuracy: 0.8275 - precision: 0.8278 - recall: 0.8250\n",
      "Epoch 2/10\n",
      "2737/2737 [==============================] - 300s 110ms/step - loss: 0.6450 - accuracy: 0.8278 - precision: 0.8302 - recall: 0.8252\n",
      "Epoch 3/10\n",
      "2737/2737 [==============================] - 320s 117ms/step - loss: 0.6500 - accuracy: 0.8279 - precision: 0.8292 - recall: 0.8266\n",
      "Epoch 4/10\n",
      "2737/2737 [==============================] - 321s 117ms/step - loss: 0.6420 - accuracy: 0.8280 - precision: 0.8307 - recall: 0.8251\n",
      "Epoch 5/10\n",
      "2737/2737 [==============================] - 321s 117ms/step - loss: 0.5837 - accuracy: 0.8360 - precision: 0.8456 - recall: 0.8251\n",
      "Epoch 6/10\n",
      "2737/2737 [==============================] - 321s 117ms/step - loss: 0.3512 - accuracy: 0.9002 - precision: 0.9090 - recall: 0.8909\n",
      "Epoch 7/10\n",
      "2737/2737 [==============================] - 322s 118ms/step - loss: 0.3186 - accuracy: 0.9039 - precision: 0.9089 - recall: 0.8986\n",
      "Epoch 8/10\n",
      "2737/2737 [==============================] - 322s 118ms/step - loss: 0.3371 - accuracy: 0.9015 - precision: 0.9095 - recall: 0.8937\n",
      "Epoch 9/10\n",
      "2737/2737 [==============================] - 325s 119ms/step - loss: 0.2870 - accuracy: 0.9170 - precision: 0.9207 - recall: 0.9134\n",
      "Epoch 10/10\n",
      "2737/2737 [==============================] - 324s 118ms/step - loss: 0.2544 - accuracy: 0.9271 - precision: 0.9308 - recall: 0.9237\n"
     ]
    },
    {
     "data": {
      "text/plain": [
       "<keras.callbacks.History at 0x7fc321a37130>"
      ]
     },
     "execution_count": 6,
     "metadata": {},
     "output_type": "execute_result"
    }
   ],
   "source": [
    "# Create an LSTM RNN model\n",
    "\n",
    "model = Sequential()\n",
    "model.add(LSTM(units=128, input_shape=(187,1)))\n",
    "model.add(Dense(units=5, activation='softmax'))\n",
    "\n",
    "# Compile the model\n",
    "model.compile(optimizer='adam', loss='categorical_crossentropy', \n",
    "              metrics=['accuracy', tf.keras.metrics.Precision(), tf.keras.metrics.Recall()])\n",
    "\n",
    "# Train the model\n",
    "model.fit(X_train, y_train, epochs=10, batch_size=32)\n"
   ]
  },
  {
   "cell_type": "code",
   "execution_count": 10,
   "metadata": {},
   "outputs": [
    {
     "name": "stdout",
     "output_type": "stream",
     "text": [
      "685/685 [==============================] - 25s 36ms/step - loss: 0.2250 - accuracy: 0.9355 - precision: 0.9390 - recall: 0.9336\n",
      "Loss: 0.22498847544193268\n",
      "Accuracy: 0.9355015754699707\n",
      "Precision: 0.9390333294868469\n",
      "Recall: 0.9336287379264832\n"
     ]
    }
   ],
   "source": [
    "# Evaluate the model on the test set\n",
    "loss, accuracy, precision, recall = model.evaluate(X_test, y_test)\n",
    "print(\"Loss:\", loss)\n",
    "print(\"Accuracy:\", accuracy)\n",
    "print(\"Precision:\", precision)\n",
    "print(\"Recall:\", recall)"
   ]
  },
  {
   "cell_type": "code",
   "execution_count": 11,
   "metadata": {},
   "outputs": [
    {
     "name": "stdout",
     "output_type": "stream",
     "text": [
      "685/685 [==============================] - 24s 36ms/step\n"
     ]
    }
   ],
   "source": [
    "# Predict on the test set\n",
    "y_pred = np.argmax(model.predict(X_test), axis=-1)"
   ]
  },
  {
   "cell_type": "code",
   "execution_count": 18,
   "metadata": {},
   "outputs": [
    {
     "name": "stdout",
     "output_type": "stream",
     "text": [
      "              precision    recall  f1-score   support\n",
      "\n",
      "           0       0.94      0.99      0.96     18118\n",
      "           1       0.74      0.24      0.36       556\n",
      "           2       0.81      0.75      0.78      1448\n",
      "           3       0.00      0.00      0.00       162\n",
      "           4       0.98      0.86      0.92      1608\n",
      "\n",
      "    accuracy                           0.94     21892\n",
      "   macro avg       0.69      0.57      0.60     21892\n",
      "weighted avg       0.92      0.94      0.93     21892\n",
      "\n"
     ]
    },
    {
     "name": "stderr",
     "output_type": "stream",
     "text": [
      "/Users/bender13/anaconda3/envs/ML/lib/python3.9/site-packages/sklearn/metrics/_classification.py:1318: UndefinedMetricWarning: Precision and F-score are ill-defined and being set to 0.0 in labels with no predicted samples. Use `zero_division` parameter to control this behavior.\n",
      "  _warn_prf(average, modifier, msg_start, len(result))\n",
      "/Users/bender13/anaconda3/envs/ML/lib/python3.9/site-packages/sklearn/metrics/_classification.py:1318: UndefinedMetricWarning: Precision and F-score are ill-defined and being set to 0.0 in labels with no predicted samples. Use `zero_division` parameter to control this behavior.\n",
      "  _warn_prf(average, modifier, msg_start, len(result))\n",
      "/Users/bender13/anaconda3/envs/ML/lib/python3.9/site-packages/sklearn/metrics/_classification.py:1318: UndefinedMetricWarning: Precision and F-score are ill-defined and being set to 0.0 in labels with no predicted samples. Use `zero_division` parameter to control this behavior.\n",
      "  _warn_prf(average, modifier, msg_start, len(result))\n"
     ]
    }
   ],
   "source": [
    "# Print classification report\n",
    "report = classification_report(np.argmax(y_test,axis=1), y_pred)\n",
    "print(report)"
   ]
  },
  {
   "cell_type": "code",
   "execution_count": null,
   "metadata": {},
   "outputs": [],
   "source": []
  }
 ],
 "metadata": {
  "kernelspec": {
   "display_name": "Python 3",
   "language": "python",
   "name": "python3"
  },
  "language_info": {
   "codemirror_mode": {
    "name": "ipython",
    "version": 3
   },
   "file_extension": ".py",
   "mimetype": "text/x-python",
   "name": "python",
   "nbconvert_exporter": "python",
   "pygments_lexer": "ipython3",
   "version": "3.9.16"
  },
  "orig_nbformat": 4
 },
 "nbformat": 4,
 "nbformat_minor": 2
}
