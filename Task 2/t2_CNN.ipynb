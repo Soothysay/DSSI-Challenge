{
 "cells": [
  {
   "attachments": {},
   "cell_type": "markdown",
   "metadata": {},
   "source": [
    "# Task 2 RNN"
   ]
  },
  {
   "attachments": {},
   "cell_type": "markdown",
   "metadata": {},
   "source": [
    "References:\n",
    "- [ECG Heartbeat Classification: A Deep Transferable Representation](https://arxiv.org/pdf/1805.00794.pdf)"
   ]
  },
  {
   "attachments": {},
   "cell_type": "markdown",
   "metadata": {},
   "source": [
    "## Load dependencies"
   ]
  },
  {
   "cell_type": "code",
   "execution_count": 17,
   "metadata": {},
   "outputs": [],
   "source": [
    "import pandas as pd\n",
    "import numpy as np\n",
    "import matplotlib.pyplot as plt\n",
    "import tensorflow as tf\n",
    "from sklearn.metrics import classification_report\n",
    "from tensorflow.keras.models import Sequential\n",
    "from tensorflow.keras.layers import Conv1D, MaxPooling1D, Flatten, Dense\n",
    "from keras.utils import to_categorical"
   ]
  },
  {
   "attachments": {},
   "cell_type": "markdown",
   "metadata": {},
   "source": [
    "## MIT-BIH  Arrhythmia Dataset\n",
    "\n",
    "- Number of Samples: 109446\n",
    "- Number of Categories: 5\n",
    "- Sampling Frequency: 125Hz\n",
    "- Data Source: Physionet's MIT-BIH Arrhythmia Dataset\n",
    "- Classes: ['N': 0, 'S': 1, 'V': 2, 'F': 3, 'Q': 4]\n",
    "- Remark: All the samples are cropped, downsampled and padded with zeroes if necessary to the fixed dimension of 188.\n",
    "- The final element of each row denotes the class to which that example belongs.\n"
   ]
  },
  {
   "cell_type": "code",
   "execution_count": 2,
   "metadata": {},
   "outputs": [
    {
     "name": "stdout",
     "output_type": "stream",
     "text": [
      "The shape of the mitbih_train is :  (87554, 188)\n",
      "The shape of the mitbih_test is :  (21892, 188)\n"
     ]
    }
   ],
   "source": [
    "df_mitbih_train = pd.read_csv(\"../ecg_dataset/mitbih_train.csv\", header = None)\n",
    "df_mitbih_test = pd.read_csv(\"../ecg_dataset/mitbih_test.csv\", header = None)\n",
    "\n",
    "# print shapes of the dataframes\n",
    "print(\"The shape of the mitbih_train is : \", df_mitbih_train.shape)\n",
    "print(\"The shape of the mitbih_test is : \", df_mitbih_test.shape)"
   ]
  },
  {
   "attachments": {},
   "cell_type": "markdown",
   "metadata": {},
   "source": [
    "# Build model for classification"
   ]
  },
  {
   "attachments": {},
   "cell_type": "markdown",
   "metadata": {},
   "source": [
    "Configure training and testing sets. "
   ]
  },
  {
   "cell_type": "code",
   "execution_count": 23,
   "metadata": {},
   "outputs": [],
   "source": [
    "X_train, y_train = df_mitbih_train.iloc[: , :-1], df_mitbih_train.iloc[: , -1]\n",
    "\n",
    "X_test, y_test = df_mitbih_test.iloc[:,:-1], df_mitbih_test.iloc[: , -1]"
   ]
  },
  {
   "cell_type": "code",
   "execution_count": 24,
   "metadata": {},
   "outputs": [],
   "source": [
    "y_train = to_categorical(y_train)\n",
    "y_test = to_categorical(y_test)"
   ]
  },
  {
   "cell_type": "code",
   "execution_count": 25,
   "metadata": {},
   "outputs": [
    {
     "name": "stdout",
     "output_type": "stream",
     "text": [
      "(87554, 5)\n",
      "(21892, 5)\n"
     ]
    }
   ],
   "source": [
    "print(y_train.shape)\n",
    "print(y_test.shape)"
   ]
  },
  {
   "cell_type": "code",
   "execution_count": 27,
   "metadata": {},
   "outputs": [
    {
     "name": "stdout",
     "output_type": "stream",
     "text": [
      "Epoch 1/10\n",
      "2737/2737 [==============================] - 30s 11ms/step - loss: 0.1933 - accuracy: 0.9461 - precision_8: 0.9509 - recall_8: 0.9406\n",
      "Epoch 2/10\n",
      "2737/2737 [==============================] - 30s 11ms/step - loss: 0.1022 - accuracy: 0.9709 - precision_8: 0.9729 - recall_8: 0.9693\n",
      "Epoch 3/10\n",
      "2737/2737 [==============================] - 31s 11ms/step - loss: 0.0788 - accuracy: 0.9772 - precision_8: 0.9785 - recall_8: 0.9761\n",
      "Epoch 4/10\n",
      "2737/2737 [==============================] - 30s 11ms/step - loss: 0.0648 - accuracy: 0.9804 - precision_8: 0.9816 - recall_8: 0.9794\n",
      "Epoch 5/10\n",
      "2737/2737 [==============================] - 30s 11ms/step - loss: 0.0542 - accuracy: 0.9837 - precision_8: 0.9845 - recall_8: 0.9828\n",
      "Epoch 6/10\n",
      "2737/2737 [==============================] - 30s 11ms/step - loss: 0.0469 - accuracy: 0.9855 - precision_8: 0.9862 - recall_8: 0.9848\n",
      "Epoch 7/10\n",
      "2737/2737 [==============================] - 31s 11ms/step - loss: 0.0396 - accuracy: 0.9877 - precision_8: 0.9883 - recall_8: 0.9872\n",
      "Epoch 8/10\n",
      "2737/2737 [==============================] - 30s 11ms/step - loss: 0.0342 - accuracy: 0.9888 - precision_8: 0.9893 - recall_8: 0.9883\n",
      "Epoch 9/10\n",
      "2737/2737 [==============================] - 30s 11ms/step - loss: 0.0298 - accuracy: 0.9898 - precision_8: 0.9903 - recall_8: 0.9896\n",
      "Epoch 10/10\n",
      "2737/2737 [==============================] - 29s 11ms/step - loss: 0.0264 - accuracy: 0.9911 - precision_8: 0.9915 - recall_8: 0.9908\n"
     ]
    },
    {
     "data": {
      "text/plain": [
       "<keras.callbacks.History at 0x7ff57bd34850>"
      ]
     },
     "execution_count": 27,
     "metadata": {},
     "output_type": "execute_result"
    }
   ],
   "source": [
    "# Define the number of classes\n",
    "num_classes = 5\n",
    "\n",
    "# Create a 1D CNN model\n",
    "model = Sequential()\n",
    "model.add(Conv1D(filters=32, kernel_size=3, activation='relu', input_shape=(X_train.shape[1], 1)))\n",
    "model.add(MaxPooling1D(pool_size=2))\n",
    "model.add(Conv1D(filters=64, kernel_size=3, activation='relu'))\n",
    "model.add(MaxPooling1D(pool_size=2))\n",
    "model.add(Flatten())\n",
    "model.add(Dense(units=128, activation='relu'))\n",
    "model.add(Dense(units=num_classes, activation='softmax'))\n",
    "\n",
    "# Compile the model\n",
    "model.compile(optimizer='adam', loss='categorical_crossentropy',\n",
    "              metrics=['accuracy', tf.keras.metrics.Precision(), tf.keras.metrics.Recall()])\n",
    "\n",
    "# Train the model\n",
    "model.fit(X_train, y_train, epochs=10, batch_size=32)"
   ]
  },
  {
   "cell_type": "code",
   "execution_count": 28,
   "metadata": {},
   "outputs": [
    {
     "name": "stdout",
     "output_type": "stream",
     "text": [
      "685/685 [==============================] - 2s 3ms/step - loss: 0.0869 - accuracy: 0.9819 - precision_8: 0.9826 - recall_8: 0.9815\n",
      "Loss: 0.08693964779376984\n",
      "Accuracy: 0.9818655252456665\n",
      "Precision: 0.9825772643089294\n",
      "Recall: 0.9815000891685486\n",
      "685/685 [==============================] - 2s 2ms/step\n"
     ]
    }
   ],
   "source": [
    "# Evaluate the model on the test set\n",
    "loss, accuracy, precision, recall = model.evaluate(X_test, y_test)\n",
    "print(\"Loss:\", loss)\n",
    "print(\"Accuracy:\", accuracy)\n",
    "print(\"Precision:\", precision)\n",
    "print(\"Recall:\", recall)"
   ]
  },
  {
   "cell_type": "code",
   "execution_count": 29,
   "metadata": {},
   "outputs": [
    {
     "name": "stdout",
     "output_type": "stream",
     "text": [
      "685/685 [==============================] - 2s 3ms/step\n",
      "              precision    recall  f1-score   support\n",
      "\n",
      "           0       0.99      0.99      0.99     18118\n",
      "           1       0.85      0.78      0.81       556\n",
      "           2       0.98      0.92      0.95      1448\n",
      "           3       0.77      0.76      0.77       162\n",
      "           4       0.99      0.99      0.99      1608\n",
      "\n",
      "    accuracy                           0.98     21892\n",
      "   macro avg       0.92      0.89      0.90     21892\n",
      "weighted avg       0.98      0.98      0.98     21892\n",
      "\n"
     ]
    }
   ],
   "source": [
    "y_pred = np.argmax(model.predict(X_test), axis=-1)\n",
    "\n",
    "# Print classification report\n",
    "report = classification_report(np.argmax(y_test, axis=1), y_pred)\n",
    "print(report)"
   ]
  }
 ],
 "metadata": {
  "kernelspec": {
   "display_name": "Python 3",
   "language": "python",
   "name": "python3"
  },
  "language_info": {
   "codemirror_mode": {
    "name": "ipython",
    "version": 3
   },
   "file_extension": ".py",
   "mimetype": "text/x-python",
   "name": "python",
   "nbconvert_exporter": "python",
   "pygments_lexer": "ipython3",
   "version": "3.9.16"
  },
  "orig_nbformat": 4
 },
 "nbformat": 4,
 "nbformat_minor": 2
}
