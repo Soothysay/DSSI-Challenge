{
 "cells": [
  {
   "attachments": {},
   "cell_type": "markdown",
   "metadata": {},
   "source": [
    "# Task 2 Random Forest"
   ]
  },
  {
   "attachments": {},
   "cell_type": "markdown",
   "metadata": {},
   "source": [
    "References:\n",
    "- [ECG Heartbeat Classification: A Deep Transferable Representation](https://arxiv.org/pdf/1805.00794.pdf)"
   ]
  },
  {
   "attachments": {},
   "cell_type": "markdown",
   "metadata": {},
   "source": [
    "## Load dependencies"
   ]
  },
  {
   "cell_type": "code",
   "execution_count": 1,
   "metadata": {},
   "outputs": [],
   "source": [
    "import pandas as pd\n",
    "import numpy as np\n",
    "import matplotlib.pyplot as plt\n",
    "from sklearn.ensemble import RandomForestClassifier\n",
    "from sklearn.metrics import classification_report, accuracy_score, precision_score, recall_score"
   ]
  },
  {
   "attachments": {},
   "cell_type": "markdown",
   "metadata": {},
   "source": [
    "## MIT-BIH  Arrhythmia Dataset\n",
    "\n",
    "- Number of Samples: 109446\n",
    "- Number of Categories: 5\n",
    "- Sampling Frequency: 125Hz\n",
    "- Data Source: Physionet's MIT-BIH Arrhythmia Dataset\n",
    "- Classes: ['N': 0, 'S': 1, 'V': 2, 'F': 3, 'Q': 4]\n",
    "- Remark: All the samples are cropped, downsampled and padded with zeroes if necessary to the fixed dimension of 188.\n",
    "- The final element of each row denotes the class to which that example belongs.\n"
   ]
  },
  {
   "cell_type": "code",
   "execution_count": 2,
   "metadata": {},
   "outputs": [
    {
     "name": "stdout",
     "output_type": "stream",
     "text": [
      "The shape of the mitbih_train is :  (87554, 188)\n",
      "The shape of the mitbih_test is :  (21892, 188)\n"
     ]
    }
   ],
   "source": [
    "df_mitbih_train = pd.read_csv(\"../ecg_dataset/mitbih_train.csv\", header = None)\n",
    "df_mitbih_test = pd.read_csv(\"../ecg_dataset/mitbih_test.csv\", header = None)\n",
    "\n",
    "# print shapes of the dataframes\n",
    "print(\"The shape of the mitbih_train is : \", df_mitbih_train.shape)\n",
    "print(\"The shape of the mitbih_test is : \", df_mitbih_test.shape)"
   ]
  },
  {
   "attachments": {},
   "cell_type": "markdown",
   "metadata": {},
   "source": [
    "# Build model for classification"
   ]
  },
  {
   "attachments": {},
   "cell_type": "markdown",
   "metadata": {},
   "source": [
    "Configure training and testing sets. "
   ]
  },
  {
   "cell_type": "code",
   "execution_count": 3,
   "metadata": {},
   "outputs": [],
   "source": [
    "Xtrain = np.array(df_mitbih_train)[:,:187]\n",
    "ytrain = np.array(df_mitbih_train)[:,187]\n",
    "\n",
    "Xtest = np.array(df_mitbih_test)[:,:187]\n",
    "ytest = np.array(df_mitbih_test)[:,187]"
   ]
  },
  {
   "cell_type": "code",
   "execution_count": null,
   "metadata": {},
   "outputs": [],
   "source": [
    "# Create a Random Forest classifier\n",
    "rf = RandomForestClassifier(n_estimators=100, random_state=42)\n",
    "\n",
    "# Train the classifier\n",
    "rf.fit(Xtrain, ytrain)\n",
    "\n",
    "# Predict on the test set\n",
    "ypred = rf.predict(Xtest)"
   ]
  },
  {
   "cell_type": "code",
   "execution_count": 6,
   "metadata": {},
   "outputs": [
    {
     "name": "stdout",
     "output_type": "stream",
     "text": [
      "Accuracy: 0.9746939521286314\n",
      "Precision: 0.9748012566218289\n",
      "Recall: 0.9746939521286314\n",
      "              precision    recall  f1-score   support\n",
      "\n",
      "         0.0       0.97      1.00      0.99     18118\n",
      "         1.0       0.99      0.61      0.75       556\n",
      "         2.0       0.98      0.88      0.93      1448\n",
      "         3.0       0.88      0.64      0.74       162\n",
      "         4.0       0.99      0.94      0.97      1608\n",
      "\n",
      "    accuracy                           0.97     21892\n",
      "   macro avg       0.96      0.81      0.87     21892\n",
      "weighted avg       0.97      0.97      0.97     21892\n",
      "\n"
     ]
    }
   ],
   "source": [
    "# Calculate accuracy\n",
    "accuracy = accuracy_score(ytest, ypred)\n",
    "\n",
    "# Calculate precision\n",
    "precision = precision_score(ytest, ypred, average='weighted')\n",
    "\n",
    "# Calculate recall\n",
    "recall = recall_score(ytest, ypred, average='weighted')\n",
    "\n",
    "# Print accuracy, precision, and recall\n",
    "print(\"Accuracy:\", accuracy)\n",
    "print(\"Precision:\", precision)\n",
    "print(\"Recall:\", recall)\n",
    "\n",
    "# Print classification report\n",
    "report = classification_report(ytest, ypred)\n",
    "print(report)"
   ]
  }
 ],
 "metadata": {
  "kernelspec": {
   "display_name": "Python 3",
   "language": "python",
   "name": "python3"
  },
  "language_info": {
   "codemirror_mode": {
    "name": "ipython",
    "version": 3
   },
   "file_extension": ".py",
   "mimetype": "text/x-python",
   "name": "python",
   "nbconvert_exporter": "python",
   "pygments_lexer": "ipython3",
   "version": "3.9.16"
  },
  "orig_nbformat": 4
 },
 "nbformat": 4,
 "nbformat_minor": 2
}
